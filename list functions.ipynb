{
 "cells": [
  {
   "cell_type": "code",
   "execution_count": 93,
   "id": "78f44904-ff40-4a54-86c8-d9c4daff9ec8",
   "metadata": {},
   "outputs": [
    {
     "data": {
      "text/plain": [
       "'Sure! Here is a list of Python list methods:\\n\\n1. `append()`\\n2. `extend()`\\n3. `insert()`\\n4. `remove()`\\n5. `pop()`\\n6. `clear()`\\n7. `index()`\\n8. `count()`\\n9. `sort()`\\n10. `reverse()`\\n11. `copy()`'"
      ]
     },
     "execution_count": 93,
     "metadata": {},
     "output_type": "execute_result"
    }
   ],
   "source": [
    "###Sure! Here is a list of Python list methods:\n",
    "#1. `append()`\n",
    "#2. `extend()`\n",
    "#3. `insert()`\n",
    "#4. `remove()`\n",
    "#5. `pop()`\n",
    "#6. `clear()`\n",
    "#7. `index()`\n",
    "#8. `count()`\n",
    "#9. `sort()`\n",
    "#10. `reverse()`\n",
    "#11. `copy()`"
   ]
  },
  {
   "cell_type": "markdown",
   "id": "85f1df6e-9532-423e-9366-4eed0d9b5acb",
   "metadata": {},
   "source": [
    "## Inserting the elements:"
   ]
  },
  {
   "cell_type": "code",
   "execution_count": 71,
   "id": "5a07450c-ac77-4abc-b45e-a5f9aee3e810",
   "metadata": {},
   "outputs": [
    {
     "name": "stdout",
     "output_type": "stream",
     "text": [
      "['yamuna', 1, 2, 3, 'jan', 'abhi', 4, 2, 2, 6]\n"
     ]
    }
   ],
   "source": [
    "l1=[\"yamuna\",1,2,3,\"jan\",\"abhi\",4,2,2]\n",
    "l1.append(6)\n",
    "print(l1)"
   ]
  },
  {
   "cell_type": "code",
   "execution_count": 72,
   "id": "36ee09f5-d3a3-49ba-b2e2-eadca7030b77",
   "metadata": {},
   "outputs": [
    {
     "data": {
      "text/plain": [
       "['yamuna', 1, 2, 3, 'jan', 'abhi', 4, 2, 2, 6, 8, 9]"
      ]
     },
     "execution_count": 72,
     "metadata": {},
     "output_type": "execute_result"
    }
   ],
   "source": [
    "l1.extend([8,9])\n",
    "l1"
   ]
  },
  {
   "cell_type": "code",
   "execution_count": 73,
   "id": "1a60cae8-3379-40e9-bd93-a368245f4879",
   "metadata": {},
   "outputs": [
    {
     "data": {
      "text/plain": [
       "['yamuna', 7, 1, 2, 3, 'jan', 'abhi', 4, 2, 2, 6, 8, 9]"
      ]
     },
     "execution_count": 73,
     "metadata": {},
     "output_type": "execute_result"
    }
   ],
   "source": [
    "l1.insert(1,7)\n",
    "l1"
   ]
  },
  {
   "cell_type": "markdown",
   "id": "c7b2b333-7e8c-42d8-82af-1bb2308f99d4",
   "metadata": {},
   "source": [
    "## Removing elements:"
   ]
  },
  {
   "cell_type": "code",
   "execution_count": 74,
   "id": "96666254-6254-4af3-9e6a-5729f607e121",
   "metadata": {},
   "outputs": [
    {
     "data": {
      "text/plain": [
       "['yamuna', 7, 1, 2, 3, 'abhi', 4, 2, 2, 6, 8, 9]"
      ]
     },
     "execution_count": 74,
     "metadata": {},
     "output_type": "execute_result"
    }
   ],
   "source": [
    "l1.remove(\"jan\")\n",
    "l1"
   ]
  },
  {
   "cell_type": "code",
   "execution_count": 75,
   "id": "54a553e7-6198-4fa1-aba7-9f4552785eb7",
   "metadata": {},
   "outputs": [
    {
     "data": {
      "text/plain": [
       "['yamuna', 7, 1, 2, 3, 'abhi', 4, 2, 2, 6, 8]"
      ]
     },
     "execution_count": 75,
     "metadata": {},
     "output_type": "execute_result"
    }
   ],
   "source": [
    "l1.pop()\n",
    "l1"
   ]
  },
  {
   "cell_type": "code",
   "execution_count": 76,
   "id": "e7f555d6-4c00-41e1-8380-704fb3413768",
   "metadata": {},
   "outputs": [
    {
     "data": {
      "text/plain": [
       "['yamuna', 7, 1, 2, 3, 4, 2, 2, 6, 8]"
      ]
     },
     "execution_count": 76,
     "metadata": {},
     "output_type": "execute_result"
    }
   ],
   "source": [
    "del l1[5]\n",
    "l1"
   ]
  },
  {
   "cell_type": "code",
   "execution_count": 77,
   "id": "e51bd214-3705-4250-9597-c620c0d1daf3",
   "metadata": {},
   "outputs": [
    {
     "data": {
      "text/plain": [
       "[8, 6, 2, 2, 4, 3, 2, 1, 7, 'yamuna']"
      ]
     },
     "execution_count": 77,
     "metadata": {},
     "output_type": "execute_result"
    }
   ],
   "source": [
    "l1.reverse()\n",
    "l1"
   ]
  },
  {
   "cell_type": "code",
   "execution_count": 78,
   "id": "390a931e-a27c-481d-b852-44c873e208c6",
   "metadata": {},
   "outputs": [
    {
     "data": {
      "text/plain": [
       "3"
      ]
     },
     "execution_count": 78,
     "metadata": {},
     "output_type": "execute_result"
    }
   ],
   "source": [
    "l2=l1.count(2)\n",
    "l2\n"
   ]
  },
  {
   "cell_type": "code",
   "execution_count": 79,
   "id": "e45c6a1e-fc1d-4189-9a2c-03dbebedc67a",
   "metadata": {},
   "outputs": [
    {
     "data": {
      "text/plain": [
       "9"
      ]
     },
     "execution_count": 79,
     "metadata": {},
     "output_type": "execute_result"
    }
   ],
   "source": [
    "l1.index(\"yamuna\")\n"
   ]
  },
  {
   "cell_type": "code",
   "execution_count": 85,
   "id": "4babeff5-07bf-4388-863e-4729ae596587",
   "metadata": {},
   "outputs": [
    {
     "data": {
      "text/plain": [
       "[1, 2, 2, 2, 3, 4, 6, 7, 8, 'yamuna']"
      ]
     },
     "execution_count": 85,
     "metadata": {},
     "output_type": "execute_result"
    }
   ],
   "source": [
    "l1"
   ]
  },
  {
   "cell_type": "markdown",
   "id": "74ca556e-0138-410d-bd71-66dafb348f2d",
   "metadata": {},
   "source": [
    "## Sort the list"
   ]
  },
  {
   "cell_type": "code",
   "execution_count": 84,
   "id": "3f48b8fd-59d0-4193-b20a-d84c1796d993",
   "metadata": {},
   "outputs": [],
   "source": [
    "#sort(key=None, reverse=False)\n"
   ]
  },
  {
   "cell_type": "code",
   "execution_count": 89,
   "id": "3b1b69c7-ef1f-4387-bee5-88dad403b20e",
   "metadata": {},
   "outputs": [
    {
     "data": {
      "text/plain": [
       "[1, 11, 13, 14, 15]"
      ]
     },
     "execution_count": 89,
     "metadata": {},
     "output_type": "execute_result"
    }
   ],
   "source": [
    "l4=[1,11,13,14,15]\n",
    "l4.sort()\n",
    "l4"
   ]
  },
  {
   "cell_type": "code",
   "execution_count": 91,
   "id": "6a65060a-6af0-43d3-8342-6062363c28f7",
   "metadata": {},
   "outputs": [
    {
     "data": {
      "text/plain": [
       "[15, 14, 13, 11, 1]"
      ]
     },
     "execution_count": 91,
     "metadata": {},
     "output_type": "execute_result"
    }
   ],
   "source": [
    "l4.sort(reverse=True)\n",
    "l4"
   ]
  },
  {
   "cell_type": "markdown",
   "id": "d03b13f5-c526-4f36-af3f-daa5e5d0a8b7",
   "metadata": {},
   "source": [
    "## Copy list"
   ]
  },
  {
   "cell_type": "code",
   "execution_count": 97,
   "id": "11f058d0-c469-4d8e-8559-4cd26b6a0239",
   "metadata": {},
   "outputs": [
    {
     "data": {
      "text/plain": [
       "[1, 2, 2, 2, 3, 4, 6, 7, 8, 'yamuna']"
      ]
     },
     "execution_count": 97,
     "metadata": {},
     "output_type": "execute_result"
    }
   ],
   "source": [
    "list2=l1.copy()\n",
    "list2"
   ]
  },
  {
   "cell_type": "code",
   "execution_count": null,
   "id": "5b9894f8-fa4d-49c3-8122-7825ed6803d7",
   "metadata": {},
   "outputs": [],
   "source": []
  }
 ],
 "metadata": {
  "kernelspec": {
   "display_name": "Python 3 (ipykernel)",
   "language": "python",
   "name": "python3"
  },
  "language_info": {
   "codemirror_mode": {
    "name": "ipython",
    "version": 3
   },
   "file_extension": ".py",
   "mimetype": "text/x-python",
   "name": "python",
   "nbconvert_exporter": "python",
   "pygments_lexer": "ipython3",
   "version": "3.12.0"
  }
 },
 "nbformat": 4,
 "nbformat_minor": 5
}
